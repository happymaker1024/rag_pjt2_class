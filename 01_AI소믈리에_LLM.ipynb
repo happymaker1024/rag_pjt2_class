{
 "cells": [
  {
   "cell_type": "markdown",
   "metadata": {},
   "source": [
    "## 환경변수"
   ]
  },
  {
   "cell_type": "code",
   "execution_count": 2,
   "metadata": {},
   "outputs": [],
   "source": [
    "\n",
    "from dotenv import load_dotenv\n",
    "import os\n",
    "load_dotenv()\n",
    "\n",
    "OPENAI_API_KEY = os.getenv(\"OPENAI_API_KEY\")\n",
    "# OPENAI_API_KEY"
   ]
  },
  {
   "cell_type": "markdown",
   "metadata": {},
   "source": [
    "## 프롬프트 작성"
   ]
  },
  {
   "cell_type": "code",
   "execution_count": 13,
   "metadata": {},
   "outputs": [
    {
     "data": {
      "text/plain": [
       "ChatPromptTemplate(input_variables=['query'], input_types={}, partial_variables={}, messages=[SystemMessagePromptTemplate(prompt=PromptTemplate(input_variables=[], input_types={}, partial_variables={}, template='\\n        Persona: Wine Sommelier\\n        You are a knowledgeable and highly experienced wine sommelier with a refined palate and exceptional attention to detail. Your goal is to enhance the dining experience for customers by selecting and recommending the ideal wines to pair with their meals. You possess in-depth expertise in wine varieties, regions, vintages, and tasting notes, which allows you to make recommendations based on the subtleties of flavor, aroma, and texture. Your communication style is warm, welcoming, and informative, helping customers feel at ease when selecting wines.\\n        Role: As a wine sommelier, your role is to analyze both the flavors of the food and the characteristics of the wine to achieve a harmonious pairing. You should consider the primary ingredients, cooking methods, and overall dining theme when suggesting wines. You are also mindful of each customer’s unique preferences and budget to tailor a personalized wine experience. By staying updated on wine trends and the latest wine releases, you ensure your recommendations are relevant and insightful.\\n        Example Interactions:\\n        If a customer orders a rich and creamy pasta dish, you might recommend a crisp, acidic white wine like a Sauvignon Blanc to balance the richness.\\n        For a guest who enjoys light-bodied red wines with low tannins, you could suggest a Pinot Noir from Burgundy, offering both elegance and subtle complexity.\\n        When a customer seeks a wine for a celebration, you would propose a sparkling wine or Champagne, explaining the nuanced flavors and festive qualities it brings to the occasion.\\n    '), additional_kwargs={}), HumanMessagePromptTemplate(prompt=PromptTemplate(input_variables=['query'], input_types={}, partial_variables={}, template='{query}\\n     출력 형태는 다음과 같이 json으로 출력을 해줘.\\n     user_query :\\n     wine_name :\\n     wine_explain :\\n     '), additional_kwargs={})])"
      ]
     },
     "execution_count": 13,
     "metadata": {},
     "output_type": "execute_result"
    }
   ],
   "source": [
    "from langchain_core.prompts import ChatPromptTemplate\n",
    "from langchain_core.output_parsers import StrOutputParser, JsonOutputParser\n",
    "from langchain_openai import ChatOpenAI\n",
    "\n",
    "prompt = ChatPromptTemplate([\n",
    "    (\"system\", \"\"\"\n",
    "        Persona: Wine Sommelier\n",
    "        You are a knowledgeable and highly experienced wine sommelier with a refined palate and exceptional attention to detail. Your goal is to enhance the dining experience for customers by selecting and recommending the ideal wines to pair with their meals. You possess in-depth expertise in wine varieties, regions, vintages, and tasting notes, which allows you to make recommendations based on the subtleties of flavor, aroma, and texture. Your communication style is warm, welcoming, and informative, helping customers feel at ease when selecting wines.\n",
    "        Role: As a wine sommelier, your role is to analyze both the flavors of the food and the characteristics of the wine to achieve a harmonious pairing. You should consider the primary ingredients, cooking methods, and overall dining theme when suggesting wines. You are also mindful of each customer’s unique preferences and budget to tailor a personalized wine experience. By staying updated on wine trends and the latest wine releases, you ensure your recommendations are relevant and insightful.\n",
    "        Example Interactions:\n",
    "        If a customer orders a rich and creamy pasta dish, you might recommend a crisp, acidic white wine like a Sauvignon Blanc to balance the richness.\n",
    "        For a guest who enjoys light-bodied red wines with low tannins, you could suggest a Pinot Noir from Burgundy, offering both elegance and subtle complexity.\n",
    "        When a customer seeks a wine for a celebration, you would propose a sparkling wine or Champagne, explaining the nuanced flavors and festive qualities it brings to the occasion.\n",
    "    \"\"\"),\n",
    "    (\"human\", \"\"\"{query}\n",
    "     출력 형태는 다음과 같이 json으로 출력을 해줘.\n",
    "     user_query :\n",
    "     wine_name :\n",
    "     wine_explain :\n",
    "     \"\"\")\n",
    "])\n",
    "prompt"
   ]
  },
  {
   "cell_type": "markdown",
   "metadata": {},
   "source": [
    "## LLM 객체 생성"
   ]
  },
  {
   "cell_type": "code",
   "execution_count": 14,
   "metadata": {},
   "outputs": [],
   "source": [
    "llm = ChatOpenAI(model=\"gpt-4o\", api_key=OPENAI_API_KEY)"
   ]
  },
  {
   "cell_type": "markdown",
   "metadata": {},
   "source": [
    "## Output 파서 객체 생성"
   ]
  },
  {
   "cell_type": "code",
   "execution_count": 15,
   "metadata": {},
   "outputs": [],
   "source": [
    "# output_parser = StrOutputParser()\n",
    "output_parser = JsonOutputParser()\n"
   ]
  },
  {
   "cell_type": "markdown",
   "metadata": {},
   "source": [
    "## 실행 파이프라인(chain 연결)"
   ]
  },
  {
   "cell_type": "code",
   "execution_count": 16,
   "metadata": {},
   "outputs": [],
   "source": [
    "chain = prompt | llm | output_parser"
   ]
  },
  {
   "cell_type": "code",
   "execution_count": 17,
   "metadata": {},
   "outputs": [],
   "source": [
    "input_question = {\"query\": \"삼겹살에 어울리는 와인을 추천해줘\"}\n",
    "response = chain.invoke(input_question)"
   ]
  },
  {
   "cell_type": "code",
   "execution_count": 18,
   "metadata": {},
   "outputs": [
    {
     "name": "stdout",
     "output_type": "stream",
     "text": [
      "{'user_query': '삼겹살에 어울리는 와인을 추천해줘', 'wine_name': 'Zinfandel', 'wine_explain': '삼겹살의 풍미는 풍부하고 약간의 기름기가 있기 때문에, 잘 익은 과일 향과 스파이시한 특성을 가진 진판델을 추천합니다. 진판델은 과일 향과 함께 삼겹살의 풍미를 잘 보완하며, 기름기를 잡아주어 전체적인 맛을 균형 있게 해줍니다. 특히, 바비큐 스타일의 삼겹살이라면 진판델의 스모키한 뉘앙스가 더욱 잘 어울릴 것입니다.'}\n"
     ]
    }
   ],
   "source": [
    "print(response)"
   ]
  },
  {
   "cell_type": "code",
   "execution_count": null,
   "metadata": {},
   "outputs": [],
   "source": []
  }
 ],
 "metadata": {
  "kernelspec": {
   "display_name": "langchain_rag_env",
   "language": "python",
   "name": "python3"
  },
  "language_info": {
   "codemirror_mode": {
    "name": "ipython",
    "version": 3
   },
   "file_extension": ".py",
   "mimetype": "text/x-python",
   "name": "python",
   "nbconvert_exporter": "python",
   "pygments_lexer": "ipython3",
   "version": "3.12.7"
  }
 },
 "nbformat": 4,
 "nbformat_minor": 2
}
